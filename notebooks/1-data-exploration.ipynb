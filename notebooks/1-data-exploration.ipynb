{
 "cells": [
  {
   "cell_type": "markdown",
   "metadata": {},
   "source": [
    "## Importing Libraries"
   ]
  },
  {
   "cell_type": "code",
   "execution_count": 15,
   "metadata": {},
   "outputs": [],
   "source": [
    "import pandas as pd\n",
    "import numpy as np\n",
    "import matplotlib.pyplot as plt\n",
    "import seaborn as sns"
   ]
  },
  {
   "cell_type": "markdown",
   "metadata": {},
   "source": [
    "## Load Datasets"
   ]
  },
  {
   "cell_type": "code",
   "execution_count": 11,
   "metadata": {},
   "outputs": [],
   "source": [
    "# Loading ACI challenge data for now\n",
    "train_df = pd.read_csv('../../clinical_visit_note_summarization_corpus/data/aci-bench/challenge_data/train.csv')\n",
    "train_metadata_df = pd.read_csv('../../clinical_visit_note_summarization_corpus/data/aci-bench/challenge_data/train_metadata.csv')\n",
    "valid_df = pd.read_csv('../../clinical_visit_note_summarization_corpus/data/aci-bench/challenge_data/valid.csv')\n",
    "valid_metadata_df = pd.read_csv('../../clinical_visit_note_summarization_corpus/data/aci-bench/challenge_data/valid_metadata.csv')"
   ]
  },
  {
   "cell_type": "markdown",
   "metadata": {},
   "source": [
    "## Basic Data Analysis"
   ]
  },
  {
   "cell_type": "code",
   "execution_count": 41,
   "metadata": {},
   "outputs": [
    {
     "name": "stdout",
     "output_type": "stream",
     "text": [
      "Train Data:\n",
      "      dataset encounter_id                                           dialogue  \\\n",
      "0  virtassist       D2N001  [doctor] hi , martha . how are you ?\\n[patient...   \n",
      "1  virtassist       D2N002  [doctor] hi , andrew , how are you ?\\n[patient...   \n",
      "2  virtassist       D2N003  [doctor] hi , john . how are you ?\\n[patient] ...   \n",
      "3  virtassist       D2N004  [doctor] hi , james , how are you ?\\n[patient]...   \n",
      "4  virtassist       D2N005  [doctor] hey , ms. hill . nice to see you .\\n[...   \n",
      "\n",
      "                                                note  \n",
      "0  CHIEF COMPLAINT\\n\\nAnnual exam.\\n\\nHISTORY OF ...  \n",
      "1  CHIEF COMPLAINT\\n\\nJoint pain.\\n\\nHISTORY OF P...  \n",
      "2  CHIEF COMPLAINT\\n\\nBack pain.\\n\\nHISTORY OF PR...  \n",
      "3  CHIEF COMPLAINT\\n\\nBack pain.\\n\\nHISTORY OF PR...  \n",
      "4  CC:\\n\\nRight middle finger pain.\\n\\nHPI:\\n\\nMs...  \n",
      "\n",
      "Train Metadata:\n",
      "      dataset encounter_id     id doctor_name patient_gender  patient_age  \\\n",
      "0  virtassist       D2N001  VA049         NaN         female         50.0   \n",
      "1  virtassist       D2N002  VA054         NaN           male         62.0   \n",
      "2  virtassist       D2N003  VA004         NaN           male         61.0   \n",
      "3  virtassist       D2N004  VA051         NaN           male         57.0   \n",
      "4  virtassist       D2N005  VA020         NaN         female         41.0   \n",
      "\n",
      "  patient_firstname patient_familyname                        cc  \\\n",
      "0            Martha            Collins               annual exam   \n",
      "1            Andrew              Perez                joint pain   \n",
      "2              John              Perry                 back pain   \n",
      "3             James              Allen                 back pain   \n",
      "4               NaN              Hills  right middle finger pain   \n",
      "\n",
      "                                     2nd_complaints  \n",
      "0  congestive heart failure;depression;hypertension  \n",
      "1        kidney transplant;hypothyroidism;arthritis  \n",
      "2   kidney stones;migraines;gastroesophageal reflux  \n",
      "3          congestive heart failure;type 2 diabetes  \n",
      "4                               atrial fibrillation  \n"
     ]
    }
   ],
   "source": [
    "# Display first few rows\n",
    "print(\"Train Data:\")\n",
    "print(train_df.head())\n",
    "print(\"\\nTrain Metadata:\")\n",
    "print(train_metadata_df.head())\n"
   ]
  },
  {
   "cell_type": "code",
   "execution_count": 42,
   "metadata": {},
   "outputs": [
    {
     "name": "stdout",
     "output_type": "stream",
     "text": [
      "Train Data Info:\n",
      "<class 'pandas.core.frame.DataFrame'>\n",
      "RangeIndex: 67 entries, 0 to 66\n",
      "Data columns (total 4 columns):\n",
      " #   Column        Non-Null Count  Dtype \n",
      "---  ------        --------------  ----- \n",
      " 0   dataset       67 non-null     object\n",
      " 1   encounter_id  67 non-null     object\n",
      " 2   dialogue      67 non-null     object\n",
      " 3   note          67 non-null     object\n",
      "dtypes: object(4)\n",
      "memory usage: 2.2+ KB\n",
      "None\n",
      "\n",
      "Train Metadata Info:\n",
      "<class 'pandas.core.frame.DataFrame'>\n",
      "RangeIndex: 67 entries, 0 to 66\n",
      "Data columns (total 10 columns):\n",
      " #   Column              Non-Null Count  Dtype  \n",
      "---  ------              --------------  -----  \n",
      " 0   dataset             67 non-null     object \n",
      " 1   encounter_id        67 non-null     object \n",
      " 2   id                  67 non-null     object \n",
      " 3   doctor_name         7 non-null      object \n",
      " 4   patient_gender      65 non-null     object \n",
      " 5   patient_age         54 non-null     float64\n",
      " 6   patient_firstname   59 non-null     object \n",
      " 7   patient_familyname  47 non-null     object \n",
      " 8   cc                  67 non-null     object \n",
      " 9   2nd_complaints      43 non-null     object \n",
      "dtypes: float64(1), object(9)\n",
      "memory usage: 5.4+ KB\n",
      "None\n"
     ]
    }
   ],
   "source": [
    "# Data Overview\n",
    "print(\"Train Data Info:\")\n",
    "print(train_df.info())\n",
    "print(\"\\nTrain Metadata Info:\")\n",
    "print(train_metadata_df.info())\n"
   ]
  },
  {
   "cell_type": "code",
   "execution_count": 43,
   "metadata": {},
   "outputs": [
    {
     "name": "stdout",
     "output_type": "stream",
     "text": [
      "dataset         0\n",
      "encounter_id    0\n",
      "dialogue        0\n",
      "note            0\n",
      "dtype: int64\n",
      "dataset                0\n",
      "encounter_id           0\n",
      "id                     0\n",
      "doctor_name           60\n",
      "patient_gender         2\n",
      "patient_age           13\n",
      "patient_firstname      8\n",
      "patient_familyname    20\n",
      "cc                     0\n",
      "2nd_complaints        24\n",
      "dtype: int64\n"
     ]
    }
   ],
   "source": [
    "# Missing Data Analysis\n",
    "print(train_df.isnull().sum())\n",
    "print(train_metadata_df.isnull().sum())\n"
   ]
  },
  {
   "cell_type": "code",
   "execution_count": 44,
   "metadata": {},
   "outputs": [
    {
     "name": "stdout",
     "output_type": "stream",
     "text": [
      "       dataset encounter_id  \\\n",
      "count       67           67   \n",
      "unique       3           67   \n",
      "top        aci       D2N001   \n",
      "freq        35            1   \n",
      "\n",
      "                                                 dialogue  \\\n",
      "count                                                  67   \n",
      "unique                                                 67   \n",
      "top     [doctor] hi , martha . how are you ?\\n[patient...   \n",
      "freq                                                    1   \n",
      "\n",
      "                                                     note  \n",
      "count                                                  67  \n",
      "unique                                                 67  \n",
      "top     CHIEF COMPLAINT\\n\\nAnnual exam.\\n\\nHISTORY OF ...  \n",
      "freq                                                    1  \n"
     ]
    }
   ],
   "source": [
    "# Statistical Summaries\n",
    "print(train_df.describe())\n"
   ]
  },
  {
   "cell_type": "code",
   "execution_count": 45,
   "metadata": {},
   "outputs": [
    {
     "name": "stdout",
     "output_type": "stream",
     "text": [
      "Train vs Validation:\n",
      "Train Shape: (67, 4)\n",
      "Validation Shape: (20, 4)\n"
     ]
    }
   ],
   "source": [
    "# Comparative Analysis\n",
    "print(\"Train vs Validation:\")\n",
    "print(\"Train Shape:\", train_df.shape)\n",
    "print(\"Validation Shape:\", valid_df.shape)\n"
   ]
  },
  {
   "cell_type": "code",
   "execution_count": 46,
   "metadata": {},
   "outputs": [
    {
     "name": "stdout",
     "output_type": "stream",
     "text": [
      "Metadata columns: Index(['dataset', 'encounter_id', 'id', 'doctor_name', 'patient_gender',\n",
      "       'patient_age', 'patient_firstname', 'patient_familyname', 'cc',\n",
      "       '2nd_complaints'],\n",
      "      dtype='object')\n"
     ]
    }
   ],
   "source": [
    "# Metadata Analysis\n",
    "print(\"Metadata columns:\", train_metadata_df.columns)\n"
   ]
  },
  {
   "cell_type": "code",
   "execution_count": 47,
   "metadata": {},
   "outputs": [],
   "source": [
    "# Feature Engineering\n",
    "if 'age' in train_df.columns:\n",
    "    train_df['age_group'] = pd.cut(train_df['age'], bins=[0, 18, 35, 60, 100], labels=['Child', 'Young Adult', 'Adult', 'Senior'])\n"
   ]
  },
  {
   "cell_type": "code",
   "execution_count": 48,
   "metadata": {},
   "outputs": [
    {
     "name": "stdout",
     "output_type": "stream",
     "text": [
      "Duplicates in Train Data: 0\n"
     ]
    }
   ],
   "source": [
    "# Data Quality Checks\n",
    "print(\"Duplicates in Train Data:\", train_df.duplicated().sum())"
   ]
  },
  {
   "cell_type": "markdown",
   "metadata": {},
   "source": [
    "## Advanced Data Analysis"
   ]
  },
  {
   "cell_type": "code",
   "execution_count": 49,
   "metadata": {},
   "outputs": [
    {
     "name": "stdout",
     "output_type": "stream",
     "text": [
      "Average Dialogue Length in Train Data: 1301.2238805970148\n",
      "Average Note Length in Train Data: 420.8358208955224\n",
      "Average Dialogue Length in Validation Data: 1221.45\n",
      "Average Note Length in Validation Data: 430.85\n"
     ]
    }
   ],
   "source": [
    "# Average length of dialgoue vs note in train and val data\n",
    "train_df['dialogue_length'] = train_df['dialogue'].apply(lambda x: len(x.split()))\n",
    "train_df['note_length'] = train_df['note'].apply(lambda x: len(x.split()))\n",
    "print(\"Average Dialogue Length in Train Data:\", train_df['dialogue_length'].mean())\n",
    "print(\"Average Note Length in Train Data:\", train_df['note_length'].mean())\n",
    "\n",
    "valid_df['dialogue_length'] = valid_df['dialogue'].apply(lambda x: len(x.split()))\n",
    "valid_df['note_length'] = valid_df['note'].apply(lambda x: len(x.split()))\n",
    "print(\"Average Dialogue Length in Validation Data:\", valid_df['dialogue_length'].mean())\n",
    "print(\"Average Note Length in Validation Data:\", valid_df['note_length'].mean())"
   ]
  },
  {
   "cell_type": "code",
   "execution_count": 50,
   "metadata": {},
   "outputs": [
    {
     "name": "stdout",
     "output_type": "stream",
     "text": [
      "Max Dialogue Length in Train Data: 3050\n",
      "Max Note Length in Train Data: 884\n",
      "Max Dialogue Length in Validation Data: 1789\n",
      "Max Note Length in Validation Data: 829\n"
     ]
    }
   ],
   "source": [
    "# Max length of dialogue and note in train and val data\n",
    "print(\"Max Dialogue Length in Train Data:\", train_df['dialogue_length'].max())\n",
    "print(\"Max Note Length in Train Data:\", train_df['note_length'].max())\n",
    "\n",
    "print(\"Max Dialogue Length in Validation Data:\", valid_df['dialogue_length'].max())\n",
    "print(\"Max Note Length in Validation Data:\", valid_df['note_length'].max())"
   ]
  }
 ],
 "metadata": {
  "kernelspec": {
   "display_name": "clinical-summarizer",
   "language": "python",
   "name": "python3"
  },
  "language_info": {
   "codemirror_mode": {
    "name": "ipython",
    "version": 3
   },
   "file_extension": ".py",
   "mimetype": "text/x-python",
   "name": "python",
   "nbconvert_exporter": "python",
   "pygments_lexer": "ipython3",
   "version": "3.9.21"
  }
 },
 "nbformat": 4,
 "nbformat_minor": 2
}
